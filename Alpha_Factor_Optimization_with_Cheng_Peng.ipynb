{
 "cells": [
  {
   "cell_type": "markdown",
   "metadata": {},
   "source": [
    "### Most important lessons learned:\n",
    "\n",
    "1. **Ideas must make sense.** Easy to find something that works, but more difficult to understand why it works.  \n",
    "2. **Understand the statistical significance.** Avoid overfitting."
   ]
  },
  {
   "cell_type": "markdown",
   "metadata": {},
   "source": [
    "### Edge:\n",
    "\n",
    "1. Being able to automate ideas very quickly to test multiple variations.\n",
    "2. Economics/markets knowledge\n",
    "3. Data science knowledge"
   ]
  }
 ],
 "metadata": {
  "kernelspec": {
   "display_name": "Python 3",
   "language": "python",
   "name": "python3"
  },
  "language_info": {
   "codemirror_mode": {
    "name": "ipython",
    "version": 3
   },
   "file_extension": ".py",
   "mimetype": "text/x-python",
   "name": "python",
   "nbconvert_exporter": "python",
   "pygments_lexer": "ipython3",
   "version": "3.7.6"
  }
 },
 "nbformat": 4,
 "nbformat_minor": 4
}
